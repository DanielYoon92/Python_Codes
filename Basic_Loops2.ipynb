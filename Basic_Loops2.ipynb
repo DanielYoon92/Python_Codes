{
 "cells": [
  {
   "cell_type": "code",
   "execution_count": 1,
   "metadata": {},
   "outputs": [],
   "source": [
    "# The list of candies to print to the screen\n",
    "candy_list = [\n",
    "    \"Snickers\",\n",
    "    \"Kit Kat\",\n",
    "    \"Sour Patch Kids\",\n",
    "    \"Juicy Fruit\",\n",
    "    \"Swedish Fish\",\n",
    "    \"Skittles\",\n",
    "    \"Hershey Bar\",\n",
    "    \"Starbursts\",\n",
    "    \"M&Ms\"\n",
    "]"
   ]
  },
  {
   "cell_type": "code",
   "execution_count": 2,
   "metadata": {},
   "outputs": [],
   "source": [
    "# The amount of candy the user will be allowed to choose\n",
    "allowance = 5"
   ]
  },
  {
   "cell_type": "code",
   "execution_count": 3,
   "metadata": {},
   "outputs": [],
   "source": [
    "# The list used to store all of the candies selected inside of\n",
    "candy_cart = []"
   ]
  },
  {
   "cell_type": "code",
   "execution_count": 4,
   "metadata": {},
   "outputs": [
    {
     "name": "stdout",
     "output_type": "stream",
     "text": [
      "[0] Snickers\n",
      "[1] Kit Kat\n",
      "[2] Sour Patch Kids\n",
      "[3] Juicy Fruit\n",
      "[4] Swedish Fish\n",
      "[5] Skittles\n",
      "[6] Hershey Bar\n",
      "[7] Starbursts\n",
      "[8] M&Ms\n"
     ]
    }
   ],
   "source": [
    "# Print all of the candies to the screen and their index in brackets\n",
    "for candy in candy_list:\n",
    "    print(f'[{str(candy_list.index(candy))}] {candy}')"
   ]
  },
  {
   "cell_type": "code",
   "execution_count": 13,
   "metadata": {},
   "outputs": [
    {
     "name": "stdout",
     "output_type": "stream",
     "text": [
      "Which candy would you like to bring home?\n"
     ]
    }
   ],
   "source": [
    "# Run through a loop which allows the user to choose which candies to take home with them\n",
    "print(\"Which candy would you like to bring home?\")\n",
    "for x in range(allowance):\n",
    "    selected = input(\"Input the number of the candy you want: \")\n",
    "\n",
    "    # Add the candy at the index chosen to the candy_cart list\n",
    "    candy_cart.append(candy_list[int(selected)])"
   ]
  },
  {
   "cell_type": "code",
   "execution_count": 14,
   "metadata": {},
   "outputs": [
    {
     "name": "stdout",
     "output_type": "stream",
     "text": [
      "I brought home with me...\n",
      "Sour Patch Kids\n",
      "Sour Patch Kids\n",
      "Skittles\n",
      "Juicy Fruit\n",
      "Swedish Fish\n",
      "Sour Patch Kids\n",
      "Sour Patch Kids\n",
      "Sour Patch Kids\n",
      "Sour Patch Kids\n",
      "Sour Patch Kids\n"
     ]
    }
   ],
   "source": [
    "# Loop through the candy_cart to say what candies were brought home\n",
    "print(\"I brought home with me...\")\n",
    "for candy in candy_cart:\n",
    "    print(candy)\n"
   ]
  }
 ],
 "metadata": {
  "kernelspec": {
   "display_name": "Python 3",
   "language": "python",
   "name": "python3"
  },
  "language_info": {
   "codemirror_mode": {
    "name": "ipython",
    "version": 3
   },
   "file_extension": ".py",
   "mimetype": "text/x-python",
   "name": "python",
   "nbconvert_exporter": "python",
   "pygments_lexer": "ipython3",
   "version": "3.10.7"
  },
  "orig_nbformat": 4,
  "vscode": {
   "interpreter": {
    "hash": "e657b2fc417f4b9571d2515230413541d8c4188abfc93faf463c5a7b3af9642e"
   }
  }
 },
 "nbformat": 4,
 "nbformat_minor": 2
}
