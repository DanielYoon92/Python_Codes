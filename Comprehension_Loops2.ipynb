{
 "cells": [
  {
   "cell_type": "code",
   "execution_count": 1,
   "metadata": {},
   "outputs": [],
   "source": [
    "names = []\n",
    "for _ in range(5):\n",
    "    name = input(\"Please enter the name of someone you know. \")\n",
    "    names.append(name)"
   ]
  },
  {
   "cell_type": "code",
   "execution_count": 2,
   "metadata": {},
   "outputs": [],
   "source": [
    "lowercased  = [name.lower() for name in names]\n",
    "titlecased  = [name.title() for name in lowercased]\n",
    "invitations = [f\"Dear {name}, please come to the wedding this Saturday!\" for name in titlecased]"
   ]
  },
  {
   "cell_type": "code",
   "execution_count": 3,
   "metadata": {},
   "outputs": [
    {
     "name": "stdout",
     "output_type": "stream",
     "text": [
      "Dear Danie, please come to the wedding this Saturday!\n",
      "Dear Mike, please come to the wedding this Saturday!\n",
      "Dear Kyle, please come to the wedding this Saturday!\n",
      "Dear Matthew, please come to the wedding this Saturday!\n",
      "Dear Jake, please come to the wedding this Saturday!\n"
     ]
    }
   ],
   "source": [
    "for invitation in invitations:\n",
    "    print(invitation)"
   ]
  }
 ],
 "metadata": {
  "kernelspec": {
   "display_name": "Python 3",
   "language": "python",
   "name": "python3"
  },
  "language_info": {
   "codemirror_mode": {
    "name": "ipython",
    "version": 3
   },
   "file_extension": ".py",
   "mimetype": "text/x-python",
   "name": "python",
   "nbconvert_exporter": "python",
   "pygments_lexer": "ipython3",
   "version": "3.10.7"
  },
  "orig_nbformat": 4,
  "vscode": {
   "interpreter": {
    "hash": "e657b2fc417f4b9571d2515230413541d8c4188abfc93faf463c5a7b3af9642e"
   }
  }
 },
 "nbformat": 4,
 "nbformat_minor": 2
}
