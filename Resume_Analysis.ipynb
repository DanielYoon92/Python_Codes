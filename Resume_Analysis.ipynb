{
 "cells": [
  {
   "cell_type": "code",
   "execution_count": 1,
   "metadata": {},
   "outputs": [],
   "source": [
    "import os\n",
    "import string\n",
    "\n",
    "# Counter is used for the bonus solution\n",
    "from collections import Counter"
   ]
  },
  {
   "cell_type": "code",
   "execution_count": 2,
   "metadata": {},
   "outputs": [],
   "source": [
    "# Paths\n",
    "resume_path = os.path.join(\"Resources\",'resume.md')"
   ]
  },
  {
   "cell_type": "code",
   "execution_count": 3,
   "metadata": {},
   "outputs": [],
   "source": [
    "# Skills to match\n",
    "REQUIRED_SKILLS = {\"excel\", \"python\", \"mysql\", \"statistics\"}\n",
    "DESIRED_SKILLS = {\"r\", \"git\", \"html\", \"css\", \"leaflet\"}"
   ]
  },
  {
   "cell_type": "code",
   "execution_count": 4,
   "metadata": {},
   "outputs": [],
   "source": [
    "def load_file(filepath):\n",
    "    with open(filepath, \"r\") as resume_file_handler:\n",
    "        return resume_file_handler.read().lower().split()"
   ]
  },
  {
   "cell_type": "code",
   "execution_count": 5,
   "metadata": {},
   "outputs": [],
   "source": [
    "# Grab the text for a Resume\n",
    "word_list = load_file(resume_path)"
   ]
  },
  {
   "cell_type": "code",
   "execution_count": 6,
   "metadata": {},
   "outputs": [],
   "source": [
    "# Create a set of unique words from the resume\n",
    "resume = set()"
   ]
  },
  {
   "cell_type": "code",
   "execution_count": 7,
   "metadata": {},
   "outputs": [
    {
     "name": "stdout",
     "output_type": "stream",
     "text": [
      "{'mysql', 'sql', 'pivot', 'html/css', 'pandas', 'mongodb', 'interests', 'leaflet', 'n', 'tableau', 'stein', 'algorithms', 'cloud', 'tables', 'education', '*', '#', 'intelligence', 'vba', 'working', 'boot', 'bootstrap', 'git/github', 'the', 'forecasting', 'skills', 'apis', 'in', 'analyze', 'social', 'data', 'basic', 'sets', 'learning', 'databases', 'css', 'writing', 'using', 'camp', 'experience', 'statistics', 'performing', 'open-source', 'creating', 'advanced', 'big', 'html', 'hadoop', 'with', 'python', 'interactions', 'graduate', 'developing', 'designing', 'files', 'mining', 'web', 'front-end', '##', 'software', 'javascript', 'scripts', 'machine', 'business', 'api', 'media', 'analytics', 'microsoft', 'and', 'visualizations', 'r', 'contributing', 'aws', 'from', 'd3', 'excel', 'frank', 'visualization', 'apps', 'modeling', 'to'}\n"
     ]
    }
   ],
   "source": [
    "# Remove trailing punctuation from words\n",
    "for token in word_list:\n",
    "    resume.add(token.split(',')[0].split('.')[0])\n",
    "print(resume)"
   ]
  },
  {
   "cell_type": "code",
   "execution_count": 8,
   "metadata": {},
   "outputs": [
    {
     "name": "stdout",
     "output_type": "stream",
     "text": [
      "{'mysql', 'sql', 'pivot', 'html/css', 'pandas', 'mongodb', 'interests', 'leaflet', 'n', 'tableau', 'stein', 'algorithms', 'cloud', 'tables', 'education', 'intelligence', 'vba', 'working', 'boot', 'bootstrap', 'git/github', 'the', 'forecasting', 'skills', 'apis', 'in', 'analyze', 'social', 'data', 'basic', 'sets', 'learning', 'databases', 'css', 'writing', 'using', 'camp', 'experience', 'statistics', 'performing', 'open-source', 'creating', 'advanced', 'big', 'html', 'hadoop', 'with', 'python', 'interactions', 'graduate', 'developing', 'designing', 'files', 'mining', 'web', 'front-end', '##', 'software', 'javascript', 'scripts', 'machine', 'business', 'api', 'media', 'analytics', 'microsoft', 'and', 'visualizations', 'r', 'contributing', 'aws', 'from', 'd3', 'excel', 'frank', 'visualization', 'apps', 'modeling', 'to'}\n"
     ]
    }
   ],
   "source": [
    "# Remove Punctuation that were read as whole words\n",
    "punctuation = set(string.punctuation)\n",
    "resume = resume - punctuation\n",
    "print(resume)"
   ]
  },
  {
   "cell_type": "code",
   "execution_count": 9,
   "metadata": {},
   "outputs": [
    {
     "name": "stdout",
     "output_type": "stream",
     "text": [
      "{'statistics', 'mysql', 'excel', 'python'}\n"
     ]
    }
   ],
   "source": [
    "# Calculate the Required Skills Match using Set Intersection\n",
    "print(resume & REQUIRED_SKILLS)"
   ]
  },
  {
   "cell_type": "code",
   "execution_count": 10,
   "metadata": {},
   "outputs": [
    {
     "name": "stdout",
     "output_type": "stream",
     "text": [
      "{'r', 'html', 'leaflet', 'css'}\n"
     ]
    }
   ],
   "source": [
    "# Calculate the Desired Skills Match using Set Intersection\n",
    "print(resume & DESIRED_SKILLS)"
   ]
  },
  {
   "cell_type": "code",
   "execution_count": 11,
   "metadata": {},
   "outputs": [],
   "source": [
    "# Initialize a dictionary with default values equal to zero\n",
    "word_count = {}.fromkeys(word_list, 0)"
   ]
  },
  {
   "cell_type": "code",
   "execution_count": 12,
   "metadata": {},
   "outputs": [
    {
     "name": "stdout",
     "output_type": "stream",
     "text": [
      "{'#': 1, 'frank': 1, 'n.': 1, 'stein': 1, '##': 4, 'education': 1, '*': 15, 'data': 7, 'analytics': 3, 'and': 8, 'visualization': 2, 'boot': 1, 'camp': 1, 'graduate': 1, 'experience': 1, 'creating': 1, 'pivot': 1, 'tables': 1, 'vba': 1, 'scripts': 2, 'in': 2, 'excel.': 1, 'modeling': 1, 'forecasting': 1, 'using': 5, 'basic': 1, 'statistics': 1, 'writing': 1, 'python': 3, 'to': 2, 'analyze': 1, 'sets': 1, 'from': 1, 'files': 1, 'apis.': 1, 'social': 2, 'media': 2, 'mining': 1, 'working': 3, 'with': 6, 'mysql': 1, 'mongodb': 1, 'databases': 1, 'developing': 1, 'front-end': 1, 'web': 2, 'visualizations': 1, 'html,': 2, 'css,': 2, 'bootstrap,': 1, 'd3,': 1, 'leaflet.js': 1, 'the': 2, 'tableau': 1, 'business': 1, 'intelligence': 1, 'software': 2, 'performing': 1, 'big': 2, 'hadoop': 1, 'machine': 2, 'learning': 1, 'algorithms': 1, 'skills': 1, 'microsoft': 1, 'excel,': 1, 'python,': 1, 'javascript,': 2, 'html/css,': 1, 'api': 1, 'interactions,': 1, 'mining,': 1, 'sql,': 1, 'hadoop,': 1, 'tableau,': 1, 'advanced': 1, 'statistics,': 1, 'learning,': 1, 'r,': 1, 'git/github': 1, 'interests': 1, 'contributing': 1, 'open-source': 1, 'pandas': 1, 'designing': 1, 'apps': 1, 'd3': 1, 'cloud': 1, 'aws': 1}\n"
     ]
    }
   ],
   "source": [
    "# Loop through the word list and count each word.\n",
    "for word in word_list:\n",
    "    word_count[word] += 1\n",
    "print(word_count)"
   ]
  },
  {
   "cell_type": "code",
   "execution_count": 13,
   "metadata": {},
   "outputs": [
    {
     "name": "stdout",
     "output_type": "stream",
     "text": [
      "Counter({'*': 15, 'and': 8, 'data': 7, 'with': 6, 'using': 5, '##': 4, 'analytics': 3, 'python': 3, 'working': 3, 'visualization': 2, 'scripts': 2, 'in': 2, 'to': 2, 'social': 2, 'media': 2, 'web': 2, 'html,': 2, 'css,': 2, 'the': 2, 'software': 2, 'big': 2, 'machine': 2, 'javascript,': 2, '#': 1, 'frank': 1, 'n.': 1, 'stein': 1, 'education': 1, 'boot': 1, 'camp': 1, 'graduate': 1, 'experience': 1, 'creating': 1, 'pivot': 1, 'tables': 1, 'vba': 1, 'excel.': 1, 'modeling': 1, 'forecasting': 1, 'basic': 1, 'statistics': 1, 'writing': 1, 'analyze': 1, 'sets': 1, 'from': 1, 'files': 1, 'apis.': 1, 'mining': 1, 'mysql': 1, 'mongodb': 1, 'databases': 1, 'developing': 1, 'front-end': 1, 'visualizations': 1, 'bootstrap,': 1, 'd3,': 1, 'leaflet.js': 1, 'tableau': 1, 'business': 1, 'intelligence': 1, 'performing': 1, 'hadoop': 1, 'learning': 1, 'algorithms': 1, 'skills': 1, 'microsoft': 1, 'excel,': 1, 'python,': 1, 'html/css,': 1, 'api': 1, 'interactions,': 1, 'mining,': 1, 'sql,': 1, 'hadoop,': 1, 'tableau,': 1, 'advanced': 1, 'statistics,': 1, 'learning,': 1, 'r,': 1, 'git/github': 1, 'interests': 1, 'contributing': 1, 'open-source': 1, 'pandas': 1, 'designing': 1, 'apps': 1, 'd3': 1, 'cloud': 1, 'aws': 1})\n"
     ]
    }
   ],
   "source": [
    "# Bonus using collections.Counter\n",
    "word_counter = Counter(word_list)\n",
    "print(word_counter)"
   ]
  },
  {
   "cell_type": "code",
   "execution_count": 14,
   "metadata": {},
   "outputs": [
    {
     "name": "stdout",
     "output_type": "stream",
     "text": [
      "True\n"
     ]
    }
   ],
   "source": [
    "# Comparing both word count solutions\n",
    "print(word_count == word_counter)"
   ]
  },
  {
   "cell_type": "code",
   "execution_count": 15,
   "metadata": {},
   "outputs": [
    {
     "name": "stdout",
     "output_type": "stream",
     "text": [
      "Top 10 Words\n",
      "=============\n"
     ]
    }
   ],
   "source": [
    "# Top 10 Words\n",
    "print(\"Top 10 Words\")\n",
    "print(\"=============\")"
   ]
  },
  {
   "cell_type": "code",
   "execution_count": 16,
   "metadata": {},
   "outputs": [],
   "source": [
    "# Clean Punctuation\n",
    "_word_count = [word for word in word_count if word not in string.punctuation]"
   ]
  },
  {
   "cell_type": "code",
   "execution_count": 17,
   "metadata": {},
   "outputs": [],
   "source": [
    "# Clean Stop Words\n",
    "stop_words = [\"and\", \"with\", \"using\", \"##\", \"working\", \"in\", \"to\"]\n",
    "_word_count = [word for word in _word_count if word not in stop_words]"
   ]
  },
  {
   "cell_type": "code",
   "execution_count": 18,
   "metadata": {},
   "outputs": [
    {
     "name": "stdout",
     "output_type": "stream",
     "text": [
      "Token: data                 Count: 7\n",
      "Token: analytics            Count: 3\n",
      "Token: python               Count: 3\n",
      "Token: visualization        Count: 2\n",
      "Token: scripts              Count: 2\n",
      "Token: social               Count: 2\n",
      "Token: media                Count: 2\n",
      "Token: web                  Count: 2\n",
      "Token: html,                Count: 2\n",
      "Token: css,                 Count: 2\n"
     ]
    }
   ],
   "source": [
    "# Sort words by count and print the top 10\n",
    "sorted_words = []\n",
    "for word in sorted(_word_count, key=word_count.get, reverse=True)[:10]:\n",
    "    print(f\"Token: {word:20} Count: {word_count[word]}\")"
   ]
  }
 ],
 "metadata": {
  "kernelspec": {
   "display_name": "Python 3",
   "language": "python",
   "name": "python3"
  },
  "language_info": {
   "codemirror_mode": {
    "name": "ipython",
    "version": 3
   },
   "file_extension": ".py",
   "mimetype": "text/x-python",
   "name": "python",
   "nbconvert_exporter": "python",
   "pygments_lexer": "ipython3",
   "version": "3.10.7"
  },
  "orig_nbformat": 4,
  "vscode": {
   "interpreter": {
    "hash": "e657b2fc417f4b9571d2515230413541d8c4188abfc93faf463c5a7b3af9642e"
   }
  }
 },
 "nbformat": 4,
 "nbformat_minor": 2
}
