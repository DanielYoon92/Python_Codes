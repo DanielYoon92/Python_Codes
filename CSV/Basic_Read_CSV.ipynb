{
 "cells": [
  {
   "cell_type": "code",
   "execution_count": 1,
   "metadata": {},
   "outputs": [],
   "source": [
    "# First we'll import the os module\n",
    "# This will allow us to create file paths across operating systems\n",
    "import os"
   ]
  },
  {
   "cell_type": "code",
   "execution_count": 2,
   "metadata": {},
   "outputs": [],
   "source": [
    "# Module for reading CSV files\n",
    "import csv"
   ]
  },
  {
   "cell_type": "code",
   "execution_count": 3,
   "metadata": {},
   "outputs": [],
   "source": [
    "csvpath = os.path.join('..', 'Resources', 'contacts.csv')"
   ]
  },
  {
   "cell_type": "code",
   "execution_count": 4,
   "metadata": {},
   "outputs": [
    {
     "name": "stdout",
     "output_type": "stream",
     "text": [
      "<_csv.reader object at 0x0000014A0C62A9E0>\n",
      "CSV Header: ['First Name', 'Last Name', 'Phone']\n",
      "['Janetta', 'Bolduc', '499-820-0212']\n",
      "['Bent', 'Hanburry', '125-890-6291']\n",
      "['Kath', 'Beeres', '807-511-9864']\n",
      "['Clarisse', 'Surgeon', '499-224-5982']\n",
      "['Hae-Won', 'Park', '727-224-1623']\n",
      "['Rodd', 'Camier', '199-541-8033']\n",
      "['Javier', 'Martinez', '543-206-4422']\n",
      "['Patty', \"De'Ath\", '950-579-4341']\n",
      "['Charlie', 'Clewlow', '874-246-8418']\n",
      "['Izel', 'Xiu', '362-965-1637']\n",
      "['Zechariah', 'Spikings', '570-486-2219']\n",
      "['Stephie', 'Tootal', '326-912-0003']\n"
     ]
    }
   ],
   "source": [
    "# Reading using CSV module\n",
    "\n",
    "with open(csvpath) as csvfile:\n",
    "\n",
    "    # CSV reader specifies delimiter and variable that holds contents\n",
    "    csvreader = csv.reader(csvfile, delimiter=',')\n",
    "\n",
    "    print(csvreader)\n",
    "\n",
    "    # Read the header row first (skip this step if there is now header)\n",
    "    csv_header = next(csvreader)\n",
    "    print(f\"CSV Header: {csv_header}\")\n",
    "\n",
    "    # Read each row of data after the header\n",
    "    for row in csvreader:\n",
    "        print(row)\n"
   ]
  }
 ],
 "metadata": {
  "kernelspec": {
   "display_name": "Python 3",
   "language": "python",
   "name": "python3"
  },
  "language_info": {
   "codemirror_mode": {
    "name": "ipython",
    "version": 3
   },
   "file_extension": ".py",
   "mimetype": "text/x-python",
   "name": "python",
   "nbconvert_exporter": "python",
   "pygments_lexer": "ipython3",
   "version": "3.10.7"
  },
  "orig_nbformat": 4,
  "vscode": {
   "interpreter": {
    "hash": "e657b2fc417f4b9571d2515230413541d8c4188abfc93faf463c5a7b3af9642e"
   }
  }
 },
 "nbformat": 4,
 "nbformat_minor": 2
}
