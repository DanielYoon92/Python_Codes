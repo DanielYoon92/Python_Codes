{
 "cells": [
  {
   "cell_type": "code",
   "execution_count": 1,
   "metadata": {},
   "outputs": [],
   "source": [
    "import os\n",
    "import csv\n",
    "\n",
    "census_csv = os.path.join(\"..\", \"Resources\", \"census_starter.csv\")"
   ]
  },
  {
   "cell_type": "code",
   "execution_count": 2,
   "metadata": {},
   "outputs": [],
   "source": [
    "# Lists to store data\n",
    "place = []\n",
    "population = []\n",
    "income = []\n",
    "poverty_count = []\n",
    "poverty_rate = []\n",
    "county = []\n",
    "state = []"
   ]
  },
  {
   "cell_type": "code",
   "execution_count": 3,
   "metadata": {},
   "outputs": [],
   "source": [
    "with open(census_csv) as csvfile:\n",
    "    csvreader = csv.reader(csvfile, delimiter=\",\")\n",
    "    for row in csvreader:\n",
    "        # Add place\n",
    "        place.append(row[0])\n",
    "\n",
    "        # Add population\n",
    "        population.append(row[1])\n",
    "\n",
    "        # Add per capita income\n",
    "        income.append(row[4])\n",
    "\n",
    "        # Add poverty count\n",
    "        poverty_count.append(row[8])\n",
    "\n",
    "        # Determine poverty rate to 2 decimal places, convert to string\n",
    "        percent = round(int(row[8]) / int(row[1]) * 100, 2)\n",
    "        poverty_rate.append(str(percent) + \"%\")\n",
    "\n",
    "        # Split the place into county and state\n",
    "        split_place = row[0].split(\", \")\n",
    "        county.append(split_place[0])\n",
    "        state.append(split_place[1])"
   ]
  },
  {
   "cell_type": "code",
   "execution_count": 4,
   "metadata": {},
   "outputs": [],
   "source": [
    "# Zip lists together\n",
    "cleaned_csv = zip(place, population, income, poverty_count, poverty_rate, county, state)"
   ]
  },
  {
   "cell_type": "code",
   "execution_count": 5,
   "metadata": {},
   "outputs": [],
   "source": [
    "# Set variable for output file\n",
    "output_file = os.path.join(\"..\", \"Resources\", \"census_final.csv\")"
   ]
  },
  {
   "cell_type": "code",
   "execution_count": 6,
   "metadata": {},
   "outputs": [],
   "source": [
    "#  Open the output file\n",
    "with open(output_file, \"w\") as datafile:\n",
    "    writer = csv.writer(datafile)\n",
    "\n",
    "    # Write the header row\n",
    "    writer.writerow([\"Place\", \"Population\", \"Per Capita Income\", \"Poverty Count\", \"Poverty Rate\",\n",
    "                    \"County\", \"State\"])\n",
    "\n",
    "    # Write in zipped rows\n",
    "    writer.writerows(cleaned_csv)"
   ]
  }
 ],
 "metadata": {
  "kernelspec": {
   "display_name": "Python 3",
   "language": "python",
   "name": "python3"
  },
  "language_info": {
   "codemirror_mode": {
    "name": "ipython",
    "version": 3
   },
   "file_extension": ".py",
   "mimetype": "text/x-python",
   "name": "python",
   "nbconvert_exporter": "python",
   "pygments_lexer": "ipython3",
   "version": "3.10.7"
  },
  "orig_nbformat": 4,
  "vscode": {
   "interpreter": {
    "hash": "e657b2fc417f4b9571d2515230413541d8c4188abfc93faf463c5a7b3af9642e"
   }
  }
 },
 "nbformat": 4,
 "nbformat_minor": 2
}
