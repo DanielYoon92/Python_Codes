{
 "cells": [
  {
   "cell_type": "code",
   "execution_count": 1,
   "metadata": {},
   "outputs": [],
   "source": [
    "import os\n",
    "import csv\n",
    "\n",
    "# Path to collect data from the Resources folder\n",
    "graduation_csv = os.path.join('..', 'Resources', 'graduation_data.csv')"
   ]
  },
  {
   "cell_type": "code",
   "execution_count": 5,
   "metadata": {},
   "outputs": [],
   "source": [
    "def print_percentages(state_data):\n",
    "    # For readability, it can help to assign your values to variables with descriptive names\n",
    "    # CSV headers: State or jurisdiction, Adjusted cohort (Public), Completers (Public),\n",
    "    # Adjusted cohort (Nonprofit Private), Completers (Nonprofit Private), \n",
    "    # Adjusted cohort (For-profit Private), Completers (For-profit Private)\n",
    "    state = str(state_data[0])\n",
    "    public_students = int(state_data[1])\n",
    "    public_graduates = int(state_data[2])\n",
    "    nonprofit_students = int(state_data[3])\n",
    "    nonprofit_graduates = int(state_data[4])\n",
    "    forprofit_students = int(state_data[5])\n",
    "    forprofit_graduates = int(state_data[6])\n",
    "\n",
    "    # Total students can be found by adding students of each category together\n",
    "    total_students = public_students + nonprofit_students + forprofit_students\n",
    "    # Total graduates can be found by adding graduates of each category together\n",
    "    total_graduates = public_graduates + nonprofit_graduates + forprofit_graduates\n",
    "\n",
    "    # Public grad rate can be found by dividing the total public graduates by the total public \n",
    "    # students and multiplying by 100\n",
    "    public_grad_rate = (public_graduates / public_students) * 100\n",
    "\n",
    "    # Note that some states do not have nonprofit or forprofit private schools, so data must be checked \n",
    "    # for zeros\n",
    "\n",
    "    # Nonprofit grad rate can be found by dividing the total nonprofit graduates by the total nonprofit \n",
    "    # students and multiplying by 100\n",
    "    if nonprofit_students == 0:\n",
    "        nonprofit_grad_rate = 0\n",
    "    else:\n",
    "        nonprofit_grad_rate = (nonprofit_graduates / nonprofit_students) * 100\n",
    "\n",
    "    # Forprofit grad rate can be found by dividing the total forprofit graduates by the total forprofit \n",
    "    # students and multiplying by 100\n",
    "    if forprofit_students == 0:\n",
    "        forprofit_grad_rate = 0\n",
    "    else:\n",
    "        forprofit_grad_rate = (forprofit_graduates / forprofit_students) * 100\n",
    "\n",
    "    # Calculate the overall graduation rate\n",
    "    overall_grad_rate = (total_graduates / total_students) * 100\n",
    "\n",
    "    # If the overall graduation rate is over 50, message is \"Graduation success\". \n",
    "    # Otherwise it is \"State needs improvement\".\n",
    "    if overall_grad_rate > 50:\n",
    "        message = \"Graduation success\"\n",
    "    else:\n",
    "        message = \"State needs improvement\"\n",
    "\n",
    "    # Print out the state's name and their graduation rates\n",
    "    print(f\"Stats for {state}\")\n",
    "    print(f\"Public School Graduation Rate: {str(public_grad_rate)}\")\n",
    "    print(f\"Private Non-Profit School Graduation Rate: {str(nonprofit_grad_rate)}\")\n",
    "    print(f\"Private For-Profit School Graduation Rate: {str(forprofit_grad_rate)}\")\n",
    "    print(f\"Overall Graduation Rate: {str(overall_grad_rate)}\")\n",
    "    print(f\"{message}\")"
   ]
  },
  {
   "cell_type": "code",
   "execution_count": 10,
   "metadata": {},
   "outputs": [
    {
     "name": "stdout",
     "output_type": "stream",
     "text": [
      "Stats for Florida\n",
      "Public School Graduation Rate: 49.179351615152214\n",
      "Private Non-Profit School Graduation Rate: 53.99491975522457\n",
      "Private For-Profit School Graduation Rate: 51.116943359375\n",
      "Overall Graduation Rate: 50.30227977455779\n",
      "Graduation success\n"
     ]
    }
   ],
   "source": [
    "# Read in the CSV file\n",
    "with open(graduation_csv, 'r') as csvfile:\n",
    "\n",
    "    # Split the data on commas\n",
    "    csvreader = csv.reader(csvfile, delimiter=',')\n",
    "\n",
    "    header = next(csvreader)\n",
    "\n",
    "    # Prompt the user for what state they would like to search for\n",
    "    state_to_check = input(\"What state do you want to look for? \")\n",
    "\n",
    "    # Loop through the data\n",
    "    for row in csvreader:\n",
    "\n",
    "        # If the state's name in a row is equal to that which the user input, run the 'print_percentages()' function\n",
    "        if state_to_check == row[0]:\n",
    "            print_percentages(row)\n"
   ]
  }
 ],
 "metadata": {
  "kernelspec": {
   "display_name": "Python 3",
   "language": "python",
   "name": "python3"
  },
  "language_info": {
   "codemirror_mode": {
    "name": "ipython",
    "version": 3
   },
   "file_extension": ".py",
   "mimetype": "text/x-python",
   "name": "python",
   "nbconvert_exporter": "python",
   "pygments_lexer": "ipython3",
   "version": "3.10.7"
  },
  "orig_nbformat": 4,
  "vscode": {
   "interpreter": {
    "hash": "e657b2fc417f4b9571d2515230413541d8c4188abfc93faf463c5a7b3af9642e"
   }
  }
 },
 "nbformat": 4,
 "nbformat_minor": 2
}
