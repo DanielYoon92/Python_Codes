{
 "cells": [
  {
   "cell_type": "code",
   "execution_count": 1,
   "metadata": {},
   "outputs": [],
   "source": [
    "# Unlike lists, dictionaries store information in pairs\n",
    "# ---------------------------------------------------------------\n",
    "\n",
    "# Create a dictionary to hold the actor's names.\n",
    "actors = {}"
   ]
  },
  {
   "cell_type": "code",
   "execution_count": 2,
   "metadata": {},
   "outputs": [],
   "source": [
    "# Create a dictionary using the built-in function.\n",
    "actors = dict()"
   ]
  },
  {
   "cell_type": "code",
   "execution_count": 3,
   "metadata": {},
   "outputs": [
    {
     "name": "stdout",
     "output_type": "stream",
     "text": [
      "Tom Cruise\n"
     ]
    }
   ],
   "source": [
    "# A dictionary of an actor.\n",
    "actors = {\"name\": \"Tom Cruise\"}\n",
    "print(f'{actors[\"name\"]}')"
   ]
  },
  {
   "cell_type": "code",
   "execution_count": 4,
   "metadata": {},
   "outputs": [],
   "source": [
    "# Add an actor to the dictionary with the key \"name\"\n",
    "# and the value \"Denzel Washington\".\n",
    "actors[\"name\"] = \"Denzel Washington\""
   ]
  },
  {
   "cell_type": "code",
   "execution_count": 5,
   "metadata": {},
   "outputs": [
    {
     "name": "stdout",
     "output_type": "stream",
     "text": [
      "{'name': 'Denzel Washington'}\n"
     ]
    }
   ],
   "source": [
    "# Print the actors dictionary.\n",
    "print(actors)"
   ]
  },
  {
   "cell_type": "code",
   "execution_count": 6,
   "metadata": {},
   "outputs": [],
   "source": [
    "# A list of actors\n",
    "actors_list = [\n",
    "    \"Tom Cruise\",\n",
    "    \"Angelina Jolie\",\n",
    "    \"Kristen Stewart\",\n",
    "    \"Denzel Washington\"]"
   ]
  },
  {
   "cell_type": "code",
   "execution_count": 7,
   "metadata": {},
   "outputs": [
    {
     "name": "stdout",
     "output_type": "stream",
     "text": [
      "Tom Cruise\n"
     ]
    }
   ],
   "source": [
    "# Overwrite the value, \"Denzel Washington\", with the list of actors.\n",
    "actors[\"name\"] = actors_list\n",
    "\n",
    "# Print the first actor\n",
    "print(f'{actors[\"name\"][0]}')"
   ]
  },
  {
   "cell_type": "code",
   "execution_count": 8,
   "metadata": {},
   "outputs": [],
   "source": [
    "# A dictionary can contain multiple pairs of information\n",
    "actress = {\n",
    "    \"name\": \"Angelina Jolie\",\n",
    "    \"genre\": \"Action\",\n",
    "    \"nationality\": \"United States\"\n",
    "}"
   ]
  },
  {
   "cell_type": "code",
   "execution_count": 9,
   "metadata": {},
   "outputs": [
    {
     "name": "stdout",
     "output_type": "stream",
     "text": [
      "Sylvester Stallone was in Rocky\n"
     ]
    }
   ],
   "source": [
    "# A dictionary can contain multiple types of information\n",
    "another_actor = {\n",
    "    \"name\": \"Sylvester Stallone\",\n",
    "    \"age\": 62,\n",
    "    \"married\": True,\n",
    "    \"best movies\": [\n",
    "        \"Rocky\",\n",
    "        \"Rocky 2\",\n",
    "        \"Rocky 3\"]}\n",
    "print(f'{another_actor[\"name\"]} was in {another_actor[\"best movies\"][0]}')"
   ]
  },
  {
   "cell_type": "code",
   "execution_count": 10,
   "metadata": {},
   "outputs": [
    {
     "name": "stdout",
     "output_type": "stream",
     "text": [
      "Interstellar made 360 million dollars in the US.\n"
     ]
    }
   ],
   "source": [
    "# A dictionary can even contain another dictionary\n",
    "film = {\n",
    "    \"title\": \"Interstellar\",\n",
    "    \"revenues\": {\n",
    "        \"United States\": 360,\n",
    "        \"China\": 250,\n",
    "        \"United Kingdom\": 73\n",
    "    }\n",
    "}\n",
    "print(f'{film[\"title\"]} made {film[\"revenues\"][\"United States\"]}'\" million dollars in the US.\")"
   ]
  }
 ],
 "metadata": {
  "kernelspec": {
   "display_name": "Python 3",
   "language": "python",
   "name": "python3"
  },
  "language_info": {
   "codemirror_mode": {
    "name": "ipython",
    "version": 3
   },
   "file_extension": ".py",
   "mimetype": "text/x-python",
   "name": "python",
   "nbconvert_exporter": "python",
   "pygments_lexer": "ipython3",
   "version": "3.10.7"
  },
  "orig_nbformat": 4,
  "vscode": {
   "interpreter": {
    "hash": "e657b2fc417f4b9571d2515230413541d8c4188abfc93faf463c5a7b3af9642e"
   }
  }
 },
 "nbformat": 4,
 "nbformat_minor": 2
}
