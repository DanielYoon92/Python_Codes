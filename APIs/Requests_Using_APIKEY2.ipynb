{
 "cells": [
  {
   "cell_type": "code",
   "execution_count": 1,
   "metadata": {},
   "outputs": [],
   "source": [
    "# Dependencies\n",
    "import requests\n",
    "from config import api_key\n",
    "\n",
    "url = f\"http://www.omdbapi.com/?apikey={api_key}&t=\""
   ]
  },
  {
   "cell_type": "code",
   "execution_count": 2,
   "metadata": {},
   "outputs": [
    {
     "name": "stdout",
     "output_type": "stream",
     "text": [
      "The director of Aliens was James Cameron.\n"
     ]
    }
   ],
   "source": [
    "# Who was the director of the movie Aliens?\n",
    "movie = requests.get(url + \"Aliens\", verify=False).json()\n",
    "print(f'The director of Aliens was {movie[\"Director\"]}.')"
   ]
  },
  {
   "cell_type": "code",
   "execution_count": 3,
   "metadata": {},
   "outputs": [
    {
     "name": "stdout",
     "output_type": "stream",
     "text": [
      "The rating of Gladiator was R.\n"
     ]
    }
   ],
   "source": [
    "# What was the movie Gladiator rated?\n",
    "movie = requests.get(url + \"Gladiator\").json()\n",
    "print(f'The rating of Gladiator was {movie[\"Rated\"]}.')"
   ]
  },
  {
   "cell_type": "code",
   "execution_count": 4,
   "metadata": {},
   "outputs": [
    {
     "name": "stdout",
     "output_type": "stream",
     "text": [
      "The movie 50 First Dates was released in 2004.\n"
     ]
    }
   ],
   "source": [
    "# What year was 50 First Dates released?\n",
    "movie = requests.get(url + \"50 First Dates\").json()\n",
    "print(f'The movie 50 First Dates was released in {movie[\"Year\"]}.')"
   ]
  },
  {
   "cell_type": "code",
   "execution_count": 5,
   "metadata": {},
   "outputs": [
    {
     "name": "stdout",
     "output_type": "stream",
     "text": [
      "Moana was written by Jared Bush, Ron Clements, John Musker.\n"
     ]
    }
   ],
   "source": [
    "# Who wrote Moana?\n",
    "movie = requests.get(url + \"Moana\").json()\n",
    "print(f'Moana was written by {movie[\"Writer\"]}.')"
   ]
  },
  {
   "cell_type": "code",
   "execution_count": 6,
   "metadata": {},
   "outputs": [
    {
     "name": "stdout",
     "output_type": "stream",
     "text": [
      "The plot of Sing was: In a city of humanoid animals, a hustling theater impresario's attempt to save his theater with a singing competition becomes grander than he anticipates even as its finalists find that their lives will never be the same.\n"
     ]
    }
   ],
   "source": [
    "# What was the plot of the movie Sing?\n",
    "movie = requests.get(url + \"Sing\").json()\n",
    "print(f'The plot of Sing was: {movie[\"Plot\"]}')"
   ]
  }
 ],
 "metadata": {
  "kernelspec": {
   "display_name": "Python 3",
   "language": "python",
   "name": "python3"
  },
  "language_info": {
   "codemirror_mode": {
    "name": "ipython",
    "version": 3
   },
   "file_extension": ".py",
   "mimetype": "text/x-python",
   "name": "python",
   "nbconvert_exporter": "python",
   "pygments_lexer": "ipython3",
   "version": "3.10.7"
  },
  "orig_nbformat": 4,
  "vscode": {
   "interpreter": {
    "hash": "e657b2fc417f4b9571d2515230413541d8c4188abfc93faf463c5a7b3af9642e"
   }
  }
 },
 "nbformat": 4,
 "nbformat_minor": 2
}
