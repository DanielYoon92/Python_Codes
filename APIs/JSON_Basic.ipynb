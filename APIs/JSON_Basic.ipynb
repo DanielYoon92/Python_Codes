{
 "cells": [
  {
   "cell_type": "code",
   "execution_count": 1,
   "metadata": {},
   "outputs": [],
   "source": [
    "# Dependencies\n",
    "import json\n",
    "import os\n",
    "\n",
    "# Load JSON\n",
    "filepath = os.path.join(\"..\", \"Resources\", \"video_api_response.json\")\n",
    "with open(filepath) as jsonfile:\n",
    "    video_json = json.load(jsonfile)"
   ]
  },
  {
   "cell_type": "code",
   "execution_count": 2,
   "metadata": {},
   "outputs": [
    {
     "name": "stdout",
     "output_type": "stream",
     "text": [
      "Title:  Introduction to Python Programming\n"
     ]
    }
   ],
   "source": [
    "# Isolate \"data items\" for easy reading\n",
    "data = video_json[\"data\"]\n",
    "data_items = data[\"items\"]\n",
    "\n",
    "# Retrieve the video's title\n",
    "title = data_items[0][\"title\"]\n",
    "print(\"Title: \", title)"
   ]
  },
  {
   "cell_type": "code",
   "execution_count": 3,
   "metadata": {},
   "outputs": [
    {
     "name": "stdout",
     "output_type": "stream",
     "text": [
      "Rating: 2.35\n"
     ]
    }
   ],
   "source": [
    "# Retrieve the video's rating\n",
    "rating = data_items[0][\"rating\"]\n",
    "print(\"Rating:\", rating)"
   ]
  },
  {
   "cell_type": "code",
   "execution_count": 4,
   "metadata": {},
   "outputs": [
    {
     "name": "stdout",
     "output_type": "stream",
     "text": [
      "Tags:  Python\n"
     ]
    }
   ],
   "source": [
    "# Retrieve the link to the video's first tag\n",
    "tag_one = data_items[0][\"tags\"][0]\n",
    "print(\"Tags: \", tag_one)"
   ]
  },
  {
   "cell_type": "code",
   "execution_count": 5,
   "metadata": {},
   "outputs": [
    {
     "name": "stdout",
     "output_type": "stream",
     "text": [
      "View count: 1350\n"
     ]
    }
   ],
   "source": [
    "# Retrieve the number of views this video has\n",
    "view_count = data_items[0][\"viewCount\"]\n",
    "print(f\"View count: {view_count}\")"
   ]
  }
 ],
 "metadata": {
  "kernelspec": {
   "display_name": "Python 3",
   "language": "python",
   "name": "python3"
  },
  "language_info": {
   "codemirror_mode": {
    "name": "ipython",
    "version": 3
   },
   "file_extension": ".py",
   "mimetype": "text/x-python",
   "name": "python",
   "nbconvert_exporter": "python",
   "pygments_lexer": "ipython3",
   "version": "3.10.7"
  },
  "orig_nbformat": 4,
  "vscode": {
   "interpreter": {
    "hash": "e657b2fc417f4b9571d2515230413541d8c4188abfc93faf463c5a7b3af9642e"
   }
  }
 },
 "nbformat": 4,
 "nbformat_minor": 2
}
