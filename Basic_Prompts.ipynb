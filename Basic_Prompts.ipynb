{
 "cells": [
  {
   "cell_type": "code",
   "execution_count": 1,
   "metadata": {},
   "outputs": [],
   "source": [
    "# Collects the user's input for the prompt \"What is your name?\"\n",
    "name = input(\"What is your name? \")"
   ]
  },
  {
   "cell_type": "code",
   "execution_count": 2,
   "metadata": {},
   "outputs": [],
   "source": [
    "# Collects the user's input for the prompt \"How old are you?\" and converts the string to an integer.\n",
    "age = int(input(\"How old are you? \"))"
   ]
  },
  {
   "cell_type": "code",
   "execution_count": 3,
   "metadata": {},
   "outputs": [],
   "source": [
    "# Collects the user's input for the prompt \"Is input truthy?\" and converts it to a boolean. Note that non-zero,\n",
    "#   non-empty objects are truth-y.\n",
    "trueOrFalse = bool(input(\"Is the input truthy? \"))"
   ]
  },
  {
   "cell_type": "code",
   "execution_count": 4,
   "metadata": {},
   "outputs": [
    {
     "name": "stdout",
     "output_type": "stream",
     "text": [
      "My name is Daniel\n",
      "I will be 19 next year.\n",
      "The input was converted to True\n"
     ]
    }
   ],
   "source": [
    "# Creates three print statements that to respond with the output.\n",
    "print(\"My name is \" + str(name))\n",
    "print(\"I will be \" + str(age + 1) + \" next year.\")\n",
    "print(\"The input was converted to \" + str(trueOrFalse))\n"
   ]
  }
 ],
 "metadata": {
  "kernelspec": {
   "display_name": "Python 3",
   "language": "python",
   "name": "python3"
  },
  "language_info": {
   "codemirror_mode": {
    "name": "ipython",
    "version": 3
   },
   "file_extension": ".py",
   "mimetype": "text/x-python",
   "name": "python",
   "nbconvert_exporter": "python",
   "pygments_lexer": "ipython3",
   "version": "3.10.7"
  },
  "orig_nbformat": 4,
  "vscode": {
   "interpreter": {
    "hash": "e657b2fc417f4b9571d2515230413541d8c4188abfc93faf463c5a7b3af9642e"
   }
  }
 },
 "nbformat": 4,
 "nbformat_minor": 2
}
