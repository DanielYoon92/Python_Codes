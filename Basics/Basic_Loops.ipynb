{
 "cells": [
  {
   "cell_type": "code",
   "execution_count": 1,
   "metadata": {},
   "outputs": [
    {
     "name": "stdout",
     "output_type": "stream",
     "text": [
      "0\n",
      "1\n",
      "2\n",
      "3\n",
      "4\n"
     ]
    }
   ],
   "source": [
    "# Loop through a range of numbers (0 through 4)\n",
    "for x in range(5):\n",
    "    print(x)"
   ]
  },
  {
   "cell_type": "code",
   "execution_count": 2,
   "metadata": {},
   "outputs": [
    {
     "name": "stdout",
     "output_type": "stream",
     "text": [
      "2\n",
      "3\n",
      "4\n",
      "5\n",
      "6\n"
     ]
    }
   ],
   "source": [
    "# Loop through a range of numbers (2 through 6 - yes 6! Up to, but not including, 7)\n",
    "for x in range(2, 7):\n",
    "    print(x)"
   ]
  },
  {
   "cell_type": "code",
   "execution_count": 3,
   "metadata": {},
   "outputs": [
    {
     "name": "stdout",
     "output_type": "stream",
     "text": [
      "P\n",
      "e\n",
      "a\n",
      "c\n",
      "e\n"
     ]
    }
   ],
   "source": [
    "# Iterate through letters in a string\n",
    "word = \"Peace\"\n",
    "for letter in word:\n",
    "    print(letter)"
   ]
  },
  {
   "cell_type": "code",
   "execution_count": 4,
   "metadata": {},
   "outputs": [
    {
     "name": "stdout",
     "output_type": "stream",
     "text": [
      "cow\n",
      "dog\n",
      "bee\n",
      "zebra\n"
     ]
    }
   ],
   "source": [
    "# Iterate through a list\n",
    "zoo = [\"cow\", \"dog\", \"bee\", \"zebra\"]\n",
    "for animal in zoo:\n",
    "    print(animal)"
   ]
  },
  {
   "cell_type": "code",
   "execution_count": 5,
   "metadata": {},
   "outputs": [
    {
     "name": "stdout",
     "output_type": "stream",
     "text": [
      "Hi!\n",
      "Hi!\n"
     ]
    }
   ],
   "source": [
    "# Loop while a condition is being met\n",
    "run = \"y\"\n",
    "\n",
    "while run == \"y\":\n",
    "    print(\"Hi!\")\n",
    "    run = input(\"To run again. Enter 'y': \")"
   ]
  }
 ],
 "metadata": {
  "kernelspec": {
   "display_name": "Python 3",
   "language": "python",
   "name": "python3"
  },
  "language_info": {
   "codemirror_mode": {
    "name": "ipython",
    "version": 3
   },
   "file_extension": ".py",
   "mimetype": "text/x-python",
   "name": "python",
   "nbconvert_exporter": "python",
   "pygments_lexer": "ipython3",
   "version": "3.10.7"
  },
  "orig_nbformat": 4,
  "vscode": {
   "interpreter": {
    "hash": "e657b2fc417f4b9571d2515230413541d8c4188abfc93faf463c5a7b3af9642e"
   }
  }
 },
 "nbformat": 4,
 "nbformat_minor": 2
}
