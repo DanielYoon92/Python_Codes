{
 "cells": [
  {
   "cell_type": "code",
   "execution_count": 1,
   "metadata": {},
   "outputs": [
    {
     "name": "stdout",
     "output_type": "stream",
     "text": [
      "Hello I am Rex and I am a dog\n",
      "I have 4 hobbies!\n",
      "On the weekend I get up at 10\n"
     ]
    }
   ],
   "source": [
    "# Dictionary full of info\n",
    "my_info = {\"name\": \"Rex\",\n",
    "           \"occupation\": \"dog\",\n",
    "           \"age\": 21,\n",
    "           \"hobbies\": [\"barking\", \"eating\", \"sleeping\", \"loving my owner\"],\n",
    "           \"wake-up\": {\"Mon\": 5, \"Friday\": 5, \"Saturday\": 10, \"Sunday\": 9}}\n",
    "\n",
    "# Print out results are stored in the dictionary\n",
    "print(f'Hello I am {my_info[\"name\"]} and I am a {my_info[\"occupation\"]}')\n",
    "print(f'I have {len(my_info[\"hobbies\"])} hobbies!')\n",
    "print(f'On the weekend I get up at {my_info[\"wake-up\"][\"Saturday\"]}')\n"
   ]
  }
 ],
 "metadata": {
  "kernelspec": {
   "display_name": "Python 3",
   "language": "python",
   "name": "python3"
  },
  "language_info": {
   "codemirror_mode": {
    "name": "ipython",
    "version": 3
   },
   "file_extension": ".py",
   "mimetype": "text/x-python",
   "name": "python",
   "nbconvert_exporter": "python",
   "pygments_lexer": "ipython3",
   "version": "3.10.7"
  },
  "orig_nbformat": 4,
  "vscode": {
   "interpreter": {
    "hash": "e657b2fc417f4b9571d2515230413541d8c4188abfc93faf463c5a7b3af9642e"
   }
  }
 },
 "nbformat": 4,
 "nbformat_minor": 2
}
