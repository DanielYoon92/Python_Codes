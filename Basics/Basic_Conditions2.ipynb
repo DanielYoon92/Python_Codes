{
 "cells": [
  {
   "cell_type": "code",
   "execution_count": 1,
   "metadata": {},
   "outputs": [],
   "source": [
    "# 4. Dan is in group three\n",
    "name = \"Dan\"\n",
    "group_one = [\"Greg\", \"Tony\", \"Susan\"]\n",
    "group_two = [\"Gerald\", \"Paul\", \"Ryder\"]\n",
    "group_three = [\"Carla\", \"Dan\", \"Jefferson\"]"
   ]
  },
  {
   "cell_type": "code",
   "execution_count": 2,
   "metadata": {},
   "outputs": [
    {
     "name": "stdout",
     "output_type": "stream",
     "text": [
      "Dan is in group three\n"
     ]
    }
   ],
   "source": [
    "if name in group_one:\n",
    "    print(name + \" is in the first group\")\n",
    "elif name in group_two:\n",
    "    print(name + \" is in group two\")\n",
    "elif name in group_three:\n",
    "    print(name + \" is in group three\")\n",
    "else:\n",
    "    print(name + \" does not have a group\")"
   ]
  },
  {
   "cell_type": "code",
   "execution_count": 3,
   "metadata": {},
   "outputs": [],
   "source": [
    "# 5. Can ride bumper cars\n",
    "height = 66\n",
    "age = 16\n",
    "adult_permission = True"
   ]
  },
  {
   "cell_type": "code",
   "execution_count": 4,
   "metadata": {},
   "outputs": [
    {
     "name": "stdout",
     "output_type": "stream",
     "text": [
      "Can ride bumper cars\n"
     ]
    }
   ],
   "source": [
    "if (height > 70) and (age >= 18):\n",
    "    print(\"Can ride all the roller coasters\")\n",
    "elif (height > 65) and (age >= 18):\n",
    "    print(\"Can ride moderate roller coasters\")\n",
    "elif (height > 60) and (age >= 18):\n",
    "    print(\"Can ride light roller coasters\")\n",
    "elif ((height > 50) and (age >= 18)) or ((adult_permission) and (height > 50)):\n",
    "    print(\"Can ride bumper cars\")\n",
    "else:\n",
    "    print(\"Stick to lazy river\")"
   ]
  }
 ],
 "metadata": {
  "kernelspec": {
   "display_name": "Python 3",
   "language": "python",
   "name": "python3"
  },
  "language_info": {
   "codemirror_mode": {
    "name": "ipython",
    "version": 3
   },
   "file_extension": ".py",
   "mimetype": "text/x-python",
   "name": "python",
   "nbconvert_exporter": "python",
   "pygments_lexer": "ipython3",
   "version": "3.10.7"
  },
  "orig_nbformat": 4,
  "vscode": {
   "interpreter": {
    "hash": "e657b2fc417f4b9571d2515230413541d8c4188abfc93faf463c5a7b3af9642e"
   }
  }
 },
 "nbformat": 4,
 "nbformat_minor": 2
}
